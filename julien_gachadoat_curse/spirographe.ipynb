{
 "cells": [
  {
   "cell_type": "code",
   "execution_count": 1,
   "id": "1595beee-dd18-49fc-b04e-6ae52628aa85",
   "metadata": {
    "scrolled": true
   },
   "outputs": [],
   "source": [
    "nb = 10;\n",
    "class Slider():\n",
    "    def __init__(self, value):\n",
    "        self.value = value\n",
    "        \n",
    "grados = Slider(180) \n",
    "dim = Slider(350)\n",
    "num_cuadros = Slider(nb)\n",
    "f_min = Slider(0.7)\n",
    "\n",
    "def setup():\n",
    "    size(500, 500)\n",
    "    rect_mode(CENTER)\n",
    "\n",
    "def draw():\n",
    "    global grados, nb, dim, f_min\n",
    "    background(0)\n",
    "    translate(width/2, height/2)\n",
    "    no_fill()\n",
    "    stroke(255)\n",
    "    for i in range(num_cuadros.value):\n",
    "        f = remap(i, 0, num_cuadros.value-1, 1, f_min.value) \n",
    "        square(0, 0, f * dim.value)\n",
    "        rotate(grados.value*PI/180)\n",
    "\n",
    "run_sketch()"
   ]
  },
  {
   "cell_type": "code",
   "execution_count": 2,
   "id": "e36f89e3-3ae3-4a65-8a68-9b2a383eee46",
   "metadata": {},
   "outputs": [],
   "source": [
    "import ipywidgets as widgets\n",
    "num_cuadros = widgets.IntSlider(value=num_cuadros.value, min=2, max=50, step=1)\n",
    "grados = widgets.IntSlider(value=grados.value, min=0, max=360, step=1)\n",
    "dim = widgets.IntSlider(value=dim.value, min=0, max=500, step=1)\n",
    "f_min = widgets.FloatSlider(value=f_min.value, min=0.1, max=1, step=0.01)"
   ]
  },
  {
   "cell_type": "code",
   "execution_count": 3,
   "id": "68baeeef-6ef1-4fc4-b6fe-5ff04eccb965",
   "metadata": {},
   "outputs": [
    {
     "data": {
      "application/vnd.jupyter.widget-view+json": {
       "model_id": "dc4172cbf4ed4da99aba12ea43b35059",
       "version_major": 2,
       "version_minor": 0
      },
      "text/plain": [
       "IntSlider(value=180, max=360)"
      ]
     },
     "execution_count": 3,
     "metadata": {},
     "output_type": "execute_result"
    }
   ],
   "source": [
    "grados"
   ]
  },
  {
   "cell_type": "code",
   "execution_count": 4,
   "id": "12a548e8-9adc-4af7-bbb4-53f38664e4b1",
   "metadata": {},
   "outputs": [
    {
     "data": {
      "application/vnd.jupyter.widget-view+json": {
       "model_id": "564bb1e4b5f34ef88f0375290535b16f",
       "version_major": 2,
       "version_minor": 0
      },
      "text/plain": [
       "IntSlider(value=350, max=500)"
      ]
     },
     "execution_count": 4,
     "metadata": {},
     "output_type": "execute_result"
    }
   ],
   "source": [
    "dim"
   ]
  },
  {
   "cell_type": "code",
   "execution_count": 5,
   "id": "ca0df94d-1b87-45f5-a7a3-d12934709dbc",
   "metadata": {},
   "outputs": [
    {
     "data": {
      "application/vnd.jupyter.widget-view+json": {
       "model_id": "97d6b7ea214b4bbaa9e19967f22c86dd",
       "version_major": 2,
       "version_minor": 0
      },
      "text/plain": [
       "IntSlider(value=10, max=50, min=2)"
      ]
     },
     "execution_count": 5,
     "metadata": {},
     "output_type": "execute_result"
    }
   ],
   "source": [
    "num_cuadros"
   ]
  },
  {
   "cell_type": "code",
   "execution_count": 6,
   "id": "d231c272-8615-4365-854a-e3ee02523bcc",
   "metadata": {},
   "outputs": [
    {
     "data": {
      "application/vnd.jupyter.widget-view+json": {
       "model_id": "9ff1b28fb3454b3b8f6f196356fe1c1b",
       "version_major": 2,
       "version_minor": 0
      },
      "text/plain": [
       "FloatSlider(value=0.7, max=1.0, min=0.1, step=0.01)"
      ]
     },
     "execution_count": 6,
     "metadata": {},
     "output_type": "execute_result"
    }
   ],
   "source": [
    "f_min"
   ]
  }
 ],
 "metadata": {
  "kernelspec": {
   "display_name": "py5",
   "language": "python",
   "name": "py5"
  },
  "language_info": {
   "codemirror_mode": {
    "name": "ipython",
    "version": 3
   },
   "file_extension": ".py",
   "mimetype": "text/x-python",
   "name": "python",
   "nbconvert_exporter": "python",
   "pygments_lexer": "ipython3",
   "version": "3.12.1"
  }
 },
 "nbformat": 4,
 "nbformat_minor": 5
}
