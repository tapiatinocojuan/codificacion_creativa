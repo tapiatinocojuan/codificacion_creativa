{
 "cells": [
  {
   "cell_type": "code",
   "execution_count": 1,
   "id": "1595beee-dd18-49fc-b04e-6ae52628aa85",
   "metadata": {
    "scrolled": true
   },
   "outputs": [],
   "source": [
    "class Slider():\n",
    "    def __init__(self, value):\n",
    "        self.value = value\n",
    "        \n",
    "cols = Slider(10) \n",
    "rows = Slider(10)\n",
    "speed = Slider(5)\n",
    "x_noise = Slider(0.001)\n",
    "y_noise = Slider(0.01)\n",
    "\n",
    "import colorsys\n",
    "fps = 60\n",
    "\n",
    "def setup():\n",
    "    global fps\n",
    "    size(600, 600)\n",
    "    frame_rate(fps)\n",
    "\n",
    "\n",
    "def draw():\n",
    "    global cols, rows, speed\n",
    "    background(255)\n",
    "    num_cells = cols.value*rows.value\n",
    "\n",
    "    gridw = width * 0.8\n",
    "    gridh = height * 0.8\n",
    "    cellw = gridw / cols.value\n",
    "    cellh = gridh / rows.value\n",
    "    margx = (width - gridw) * 0.5\n",
    "    margy = (height - gridh) * 0.5\n",
    "\n",
    "    for i in range(num_cells):\n",
    "        col = i % cols.value\n",
    "        row = int(i/cols.value)\n",
    "\n",
    "        x = col * cellw\n",
    "        y = row * cellh\n",
    "        w = cellw * 0.8\n",
    "        h = cellh * 0.8\n",
    "\n",
    "        n = noise((frame_count + x)*x_noise.value, y*y_noise.value)\n",
    "        escale = remap(n, 0, 1, 1, 50)\n",
    "\n",
    "        push_matrix()\n",
    "        translate(x, y)\n",
    "        translate(margx, margy)\n",
    "        translate(cellw * 0.5, cellh * 0.5)\n",
    "        rotate(-n*PI*speed.value)\n",
    "        fill(0)\n",
    "        no_stroke()\n",
    "        rect_mode(CENTER)\n",
    "        rect(0, 0, w, escale)\n",
    "        pop_matrix()\n",
    "\n",
    "\n",
    "if __name__ == \"__main__\":\n",
    "    run_sketch()"
   ]
  },
  {
   "cell_type": "code",
   "execution_count": 2,
   "id": "e36f89e3-3ae3-4a65-8a68-9b2a383eee46",
   "metadata": {},
   "outputs": [],
   "source": [
    "import ipywidgets as widgets\n",
    "cols = widgets.IntSlider(value=cols.value, min=10, max=50, step=1)\n",
    "rows = widgets.IntSlider(value=rows.value, min=10, max=50, step=1)\n",
    "speed = widgets.FloatSlider(value=speed.value, min=0.1, max=20, step=0.1)\n"
   ]
  },
  {
   "cell_type": "code",
   "execution_count": 3,
   "id": "68baeeef-6ef1-4fc4-b6fe-5ff04eccb965",
   "metadata": {},
   "outputs": [
    {
     "data": {
      "application/vnd.jupyter.widget-view+json": {
       "model_id": "501db72a83a0441d9c9277f57b5e99ef",
       "version_major": 2,
       "version_minor": 0
      },
      "text/plain": [
       "IntSlider(value=10, max=50, min=10)"
      ]
     },
     "execution_count": 3,
     "metadata": {},
     "output_type": "execute_result"
    }
   ],
   "source": [
    "cols"
   ]
  },
  {
   "cell_type": "code",
   "execution_count": 4,
   "id": "12a548e8-9adc-4af7-bbb4-53f38664e4b1",
   "metadata": {},
   "outputs": [
    {
     "data": {
      "application/vnd.jupyter.widget-view+json": {
       "model_id": "492c76cb1b72400a940c0974b0ce20dc",
       "version_major": 2,
       "version_minor": 0
      },
      "text/plain": [
       "IntSlider(value=10, max=50, min=10)"
      ]
     },
     "execution_count": 4,
     "metadata": {},
     "output_type": "execute_result"
    }
   ],
   "source": [
    "rows"
   ]
  },
  {
   "cell_type": "code",
   "execution_count": 5,
   "id": "08c085d5-a10a-4397-8683-36d3d96fc3a8",
   "metadata": {},
   "outputs": [
    {
     "data": {
      "application/vnd.jupyter.widget-view+json": {
       "model_id": "669cc8979dc849dc8619397e0ab8563b",
       "version_major": 2,
       "version_minor": 0
      },
      "text/plain": [
       "FloatSlider(value=5.0, max=20.0, min=0.1)"
      ]
     },
     "execution_count": 5,
     "metadata": {},
     "output_type": "execute_result"
    }
   ],
   "source": [
    "speed"
   ]
  }
 ],
 "metadata": {
  "kernelspec": {
   "display_name": "py5",
   "language": "python",
   "name": "py5"
  },
  "language_info": {
   "codemirror_mode": {
    "name": "ipython",
    "version": 3
   },
   "file_extension": ".py",
   "mimetype": "text/x-python",
   "name": "python",
   "nbconvert_exporter": "python",
   "pygments_lexer": "ipython3",
   "version": "3.12.1"
  }
 },
 "nbformat": 4,
 "nbformat_minor": 5
}
